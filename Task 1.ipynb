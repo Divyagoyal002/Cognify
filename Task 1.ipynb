{
 "cells": [
  {
   "cell_type": "markdown",
   "id": "6a51c56c",
   "metadata": {},
   "source": [
    "**machine learning model to predict the aggregate rating of a restaurant based on other features:**"
   ]
  },
  {
   "cell_type": "code",
   "execution_count": 19,
   "id": "d7a2c3c0",
   "metadata": {},
   "outputs": [],
   "source": [
    "import pandas as pd\n",
    "from sklearn.model_selection import train_test_split\n",
    "from sklearn.linear_model import LinearRegression\n",
    "from sklearn.metrics import mean_squared_error, r2_score\n"
   ]
  },
  {
   "cell_type": "markdown",
   "id": "20bd4bc8",
   "metadata": {},
   "source": [
    "**Preprocessing the dataset**"
   ]
  },
  {
   "cell_type": "code",
   "execution_count": 20,
   "id": "10cc724d",
   "metadata": {},
   "outputs": [],
   "source": [
    "# Load dataset\n",
    "df = pd.read_csv('Dataset.csv')"
   ]
  },
  {
   "cell_type": "code",
   "execution_count": 21,
   "id": "6d77be10",
   "metadata": {},
   "outputs": [
    {
     "name": "stderr",
     "output_type": "stream",
     "text": [
      "C:\\Users\\DELL\\AppData\\Local\\Temp/ipykernel_1988/3969291770.py:2: FutureWarning: Dropping of nuisance columns in DataFrame reductions (with 'numeric_only=None') is deprecated; in a future version this will raise TypeError.  Select only valid columns before calling the reduction.\n",
      "  df.fillna(df.mean(), inplace=True)\n"
     ]
    }
   ],
   "source": [
    "# Handle missing values\n",
    "df.fillna(df.mean(), inplace=True)\n",
    "df.fillna(df.mode().iloc[0], inplace=True)"
   ]
  },
  {
   "cell_type": "code",
   "execution_count": 22,
   "id": "0946eeff",
   "metadata": {},
   "outputs": [],
   "source": [
    "# Convert binary categorical variables to numerical\n",
    "binary_columns = ['Has Table booking', 'Has Online delivery', 'Is delivering now', 'Switch to order menu']\n",
    "df[binary_columns] = df[binary_columns].applymap(lambda x: 1 if x == 'Yes' else 0)"
   ]
  },
  {
   "cell_type": "code",
   "execution_count": 23,
   "id": "c6192dc2",
   "metadata": {},
   "outputs": [],
   "source": [
    "# Encode other categorical variables\n",
    "df = pd.get_dummies(df, columns=['Country Code', 'City', 'Locality', 'Cuisines', 'Currency', 'Rating color', 'Rating text'], drop_first=True)"
   ]
  },
  {
   "cell_type": "code",
   "execution_count": 24,
   "id": "2eacc342",
   "metadata": {},
   "outputs": [],
   "source": [
    "# Drop unnecessary columns\n",
    "df.drop(columns=['Restaurant ID', 'Restaurant Name', 'Address', 'Locality Verbose'], inplace=True)"
   ]
  },
  {
   "cell_type": "markdown",
   "id": "73ea843a",
   "metadata": {},
   "source": [
    "**Using linear regression for prediction,training the data.**"
   ]
  },
  {
   "cell_type": "code",
   "execution_count": 25,
   "id": "2ac3f917",
   "metadata": {},
   "outputs": [],
   "source": [
    "# Split data into training and testing sets\n",
    "X = df.drop('Aggregate rating', axis=1)\n",
    "y = df['Aggregate rating']\n",
    "X_train, X_test, y_train, y_test = train_test_split(X, y, test_size=0.2, random_state=42)"
   ]
  },
  {
   "cell_type": "code",
   "execution_count": 26,
   "id": "25432f66",
   "metadata": {},
   "outputs": [
    {
     "data": {
      "text/plain": [
       "LinearRegression()"
      ]
     },
     "execution_count": 26,
     "metadata": {},
     "output_type": "execute_result"
    }
   ],
   "source": [
    "# Training linear regression model\n",
    "model = LinearRegression()\n",
    "model.fit(X_train, y_train)"
   ]
  },
  {
   "cell_type": "code",
   "execution_count": 27,
   "id": "ddf7ce95",
   "metadata": {},
   "outputs": [],
   "source": [
    "# predictions\n",
    "y_pred = model.predict(X_test)"
   ]
  },
  {
   "cell_type": "markdown",
   "id": "0c44538b",
   "metadata": {},
   "source": [
    "**Evaluating the model's performance with MSE and R-squared**"
   ]
  },
  {
   "cell_type": "code",
   "execution_count": 28,
   "id": "bbb979df",
   "metadata": {},
   "outputs": [
    {
     "name": "stdout",
     "output_type": "stream",
     "text": [
      "Mean Squared Error: 0.04013067803623005\n",
      "R-squared: 0.9823687362041598\n"
     ]
    }
   ],
   "source": [
    "# Evaluate model\n",
    "mse = mean_squared_error(y_test, y_pred)\n",
    "r2 = r2_score(y_test, y_pred)\n",
    "print(f'Mean Squared Error: {mse}')\n",
    "print(f'R-squared: {r2}')"
   ]
  },
  {
   "cell_type": "markdown",
   "id": "8e1a0177",
   "metadata": {},
   "source": [
    "**Interpreting the model's results and analyze the most\n",
    "influential features affecting restaurant ratings.**"
   ]
  },
  {
   "cell_type": "code",
   "execution_count": 29,
   "id": "b0eae548",
   "metadata": {},
   "outputs": [
    {
     "name": "stdout",
     "output_type": "stream",
     "text": [
      "Rating text_Excellent                                         1.330173\n",
      "Cuisines_American, Burger, Grill                              0.581267\n",
      "Cuisines_Cafe, Italian, Bakery                                0.560714\n",
      "Cuisines_Asian, Mediterranean, North Indian                   0.559782\n",
      "Cuisines_Mexican, North Indian, European, Chinese, Italian    0.537519\n",
      "                                                                ...   \n",
      "Locality_Fortune Select Global, MG Road                      -0.756229\n",
      "Locality_IBIS Hotel, Golf Course Road                        -0.898385\n",
      "Locality_IIT Kanpur                                          -0.902150\n",
      "Rating text_Not rated                                        -1.549896\n",
      "Rating color_White                                           -1.549896\n",
      "Length: 3215, dtype: float64\n"
     ]
    }
   ],
   "source": [
    "feature_importance = pd.Series(model.coef_, index=X.columns).sort_values(ascending=False)\n",
    "print(feature_importance)"
   ]
  },
  {
   "cell_type": "code",
   "execution_count": null,
   "id": "02bbb960",
   "metadata": {},
   "outputs": [],
   "source": []
  }
 ],
 "metadata": {
  "kernelspec": {
   "display_name": "Python 3 (ipykernel)",
   "language": "python",
   "name": "python3"
  },
  "language_info": {
   "codemirror_mode": {
    "name": "ipython",
    "version": 3
   },
   "file_extension": ".py",
   "mimetype": "text/x-python",
   "name": "python",
   "nbconvert_exporter": "python",
   "pygments_lexer": "ipython3",
   "version": "3.9.7"
  }
 },
 "nbformat": 4,
 "nbformat_minor": 5
}
