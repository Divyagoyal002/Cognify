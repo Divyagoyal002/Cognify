{
 "cells": [
  {
   "cell_type": "markdown",
   "id": "71e1bf5f",
   "metadata": {},
   "source": [
    "### Objective: \n",
    "**Develop a machine learning model to\n",
    "classify restaurants based on their cuisines.**"
   ]
  },
  {
   "cell_type": "code",
   "execution_count": 24,
   "id": "d95989c9",
   "metadata": {},
   "outputs": [],
   "source": [
    "import pandas as pd\n",
    "from sklearn.model_selection import train_test_split\n",
    "from sklearn.preprocessing import LabelEncoder\n",
    "from sklearn.ensemble import RandomForestClassifier\n",
    "from sklearn.metrics import accuracy_score, precision_score, recall_score, classification_report"
   ]
  },
  {
   "cell_type": "markdown",
   "id": "75738350",
   "metadata": {},
   "source": [
    "**Preprocessing the dataset**"
   ]
  },
  {
   "cell_type": "code",
   "execution_count": 25,
   "id": "aa1ad983",
   "metadata": {},
   "outputs": [],
   "source": [
    "# Load the dataset\n",
    "df = pd.read_csv('Dataset.csv')"
   ]
  },
  {
   "cell_type": "code",
   "execution_count": 42,
   "id": "b46d0cda",
   "metadata": {},
   "outputs": [
    {
     "data": {
      "text/html": [
       "<div>\n",
       "<style scoped>\n",
       "    .dataframe tbody tr th:only-of-type {\n",
       "        vertical-align: middle;\n",
       "    }\n",
       "\n",
       "    .dataframe tbody tr th {\n",
       "        vertical-align: top;\n",
       "    }\n",
       "\n",
       "    .dataframe thead th {\n",
       "        text-align: right;\n",
       "    }\n",
       "</style>\n",
       "<table border=\"1\" class=\"dataframe\">\n",
       "  <thead>\n",
       "    <tr style=\"text-align: right;\">\n",
       "      <th></th>\n",
       "      <th>Country Code</th>\n",
       "      <th>City</th>\n",
       "      <th>Longitude</th>\n",
       "      <th>Latitude</th>\n",
       "      <th>Cuisines</th>\n",
       "      <th>Average Cost for two</th>\n",
       "      <th>Price range</th>\n",
       "      <th>Aggregate rating</th>\n",
       "      <th>Votes</th>\n",
       "    </tr>\n",
       "  </thead>\n",
       "  <tbody>\n",
       "    <tr>\n",
       "      <th>0</th>\n",
       "      <td>162</td>\n",
       "      <td>73</td>\n",
       "      <td>121.027535</td>\n",
       "      <td>14.565443</td>\n",
       "      <td>920</td>\n",
       "      <td>1100</td>\n",
       "      <td>2</td>\n",
       "      <td>4.8</td>\n",
       "      <td>314</td>\n",
       "    </tr>\n",
       "    <tr>\n",
       "      <th>1</th>\n",
       "      <td>162</td>\n",
       "      <td>73</td>\n",
       "      <td>121.014101</td>\n",
       "      <td>14.553708</td>\n",
       "      <td>1111</td>\n",
       "      <td>1200</td>\n",
       "      <td>2</td>\n",
       "      <td>4.5</td>\n",
       "      <td>591</td>\n",
       "    </tr>\n",
       "    <tr>\n",
       "      <th>2</th>\n",
       "      <td>162</td>\n",
       "      <td>75</td>\n",
       "      <td>121.056831</td>\n",
       "      <td>14.581404</td>\n",
       "      <td>1671</td>\n",
       "      <td>4000</td>\n",
       "      <td>3</td>\n",
       "      <td>4.4</td>\n",
       "      <td>270</td>\n",
       "    </tr>\n",
       "    <tr>\n",
       "      <th>3</th>\n",
       "      <td>162</td>\n",
       "      <td>75</td>\n",
       "      <td>121.056475</td>\n",
       "      <td>14.585318</td>\n",
       "      <td>1126</td>\n",
       "      <td>1500</td>\n",
       "      <td>3</td>\n",
       "      <td>4.9</td>\n",
       "      <td>365</td>\n",
       "    </tr>\n",
       "    <tr>\n",
       "      <th>4</th>\n",
       "      <td>162</td>\n",
       "      <td>75</td>\n",
       "      <td>121.057508</td>\n",
       "      <td>14.584450</td>\n",
       "      <td>1122</td>\n",
       "      <td>1500</td>\n",
       "      <td>3</td>\n",
       "      <td>4.8</td>\n",
       "      <td>229</td>\n",
       "    </tr>\n",
       "  </tbody>\n",
       "</table>\n",
       "</div>"
      ],
      "text/plain": [
       "   Country Code  City   Longitude   Latitude  Cuisines  Average Cost for two  \\\n",
       "0           162    73  121.027535  14.565443       920                  1100   \n",
       "1           162    73  121.014101  14.553708      1111                  1200   \n",
       "2           162    75  121.056831  14.581404      1671                  4000   \n",
       "3           162    75  121.056475  14.585318      1126                  1500   \n",
       "4           162    75  121.057508  14.584450      1122                  1500   \n",
       "\n",
       "   Price range  Aggregate rating  Votes  \n",
       "0            2               4.8    314  \n",
       "1            2               4.5    591  \n",
       "2            3               4.4    270  \n",
       "3            3               4.9    365  \n",
       "4            3               4.8    229  "
      ]
     },
     "execution_count": 42,
     "metadata": {},
     "output_type": "execute_result"
    }
   ],
   "source": [
    "# Display the first few rows of the dataset\n",
    "df.head()"
   ]
  },
  {
   "cell_type": "code",
   "execution_count": 27,
   "id": "ef6d9f0e",
   "metadata": {},
   "outputs": [],
   "source": [
    "# Handling missing values\n",
    "df = df.dropna()"
   ]
  },
  {
   "cell_type": "code",
   "execution_count": 28,
   "id": "621da371",
   "metadata": {},
   "outputs": [],
   "source": [
    "# Encode categorical variables\n",
    "label_encoder = LabelEncoder()\n",
    "df['Cuisines'] = label_encoder.fit_transform(df['Cuisines'])\n",
    "df['Price range'] = label_encoder.fit_transform(df['Price range'])\n",
    "df['City'] = label_encoder.fit_transform(df['City'])"
   ]
  },
  {
   "cell_type": "code",
   "execution_count": 29,
   "id": "d2af2e1f",
   "metadata": {},
   "outputs": [],
   "source": [
    "# Drop columns that cannot be converted to numeric (e.g., address)\n",
    "df = df.drop(['Restaurant ID', 'Restaurant Name', 'Address'], axis=1)"
   ]
  },
  {
   "cell_type": "code",
   "execution_count": 30,
   "id": "86b4d1ab",
   "metadata": {},
   "outputs": [],
   "source": [
    "# Ensure all features are numeric\n",
    "numeric_columns = df.select_dtypes(include=['number']).columns\n",
    "df = df[numeric_columns]"
   ]
  },
  {
   "cell_type": "code",
   "execution_count": 43,
   "id": "2e6d792f",
   "metadata": {},
   "outputs": [
    {
     "data": {
      "text/html": [
       "<div>\n",
       "<style scoped>\n",
       "    .dataframe tbody tr th:only-of-type {\n",
       "        vertical-align: middle;\n",
       "    }\n",
       "\n",
       "    .dataframe tbody tr th {\n",
       "        vertical-align: top;\n",
       "    }\n",
       "\n",
       "    .dataframe thead th {\n",
       "        text-align: right;\n",
       "    }\n",
       "</style>\n",
       "<table border=\"1\" class=\"dataframe\">\n",
       "  <thead>\n",
       "    <tr style=\"text-align: right;\">\n",
       "      <th></th>\n",
       "      <th>Country Code</th>\n",
       "      <th>City</th>\n",
       "      <th>Longitude</th>\n",
       "      <th>Latitude</th>\n",
       "      <th>Cuisines</th>\n",
       "      <th>Average Cost for two</th>\n",
       "      <th>Price range</th>\n",
       "      <th>Aggregate rating</th>\n",
       "      <th>Votes</th>\n",
       "    </tr>\n",
       "  </thead>\n",
       "  <tbody>\n",
       "    <tr>\n",
       "      <th>0</th>\n",
       "      <td>162</td>\n",
       "      <td>73</td>\n",
       "      <td>121.027535</td>\n",
       "      <td>14.565443</td>\n",
       "      <td>920</td>\n",
       "      <td>1100</td>\n",
       "      <td>2</td>\n",
       "      <td>4.8</td>\n",
       "      <td>314</td>\n",
       "    </tr>\n",
       "    <tr>\n",
       "      <th>1</th>\n",
       "      <td>162</td>\n",
       "      <td>73</td>\n",
       "      <td>121.014101</td>\n",
       "      <td>14.553708</td>\n",
       "      <td>1111</td>\n",
       "      <td>1200</td>\n",
       "      <td>2</td>\n",
       "      <td>4.5</td>\n",
       "      <td>591</td>\n",
       "    </tr>\n",
       "    <tr>\n",
       "      <th>2</th>\n",
       "      <td>162</td>\n",
       "      <td>75</td>\n",
       "      <td>121.056831</td>\n",
       "      <td>14.581404</td>\n",
       "      <td>1671</td>\n",
       "      <td>4000</td>\n",
       "      <td>3</td>\n",
       "      <td>4.4</td>\n",
       "      <td>270</td>\n",
       "    </tr>\n",
       "    <tr>\n",
       "      <th>3</th>\n",
       "      <td>162</td>\n",
       "      <td>75</td>\n",
       "      <td>121.056475</td>\n",
       "      <td>14.585318</td>\n",
       "      <td>1126</td>\n",
       "      <td>1500</td>\n",
       "      <td>3</td>\n",
       "      <td>4.9</td>\n",
       "      <td>365</td>\n",
       "    </tr>\n",
       "    <tr>\n",
       "      <th>4</th>\n",
       "      <td>162</td>\n",
       "      <td>75</td>\n",
       "      <td>121.057508</td>\n",
       "      <td>14.584450</td>\n",
       "      <td>1122</td>\n",
       "      <td>1500</td>\n",
       "      <td>3</td>\n",
       "      <td>4.8</td>\n",
       "      <td>229</td>\n",
       "    </tr>\n",
       "  </tbody>\n",
       "</table>\n",
       "</div>"
      ],
      "text/plain": [
       "   Country Code  City   Longitude   Latitude  Cuisines  Average Cost for two  \\\n",
       "0           162    73  121.027535  14.565443       920                  1100   \n",
       "1           162    73  121.014101  14.553708      1111                  1200   \n",
       "2           162    75  121.056831  14.581404      1671                  4000   \n",
       "3           162    75  121.056475  14.585318      1126                  1500   \n",
       "4           162    75  121.057508  14.584450      1122                  1500   \n",
       "\n",
       "   Price range  Aggregate rating  Votes  \n",
       "0            2               4.8    314  \n",
       "1            2               4.5    591  \n",
       "2            3               4.4    270  \n",
       "3            3               4.9    365  \n",
       "4            3               4.8    229  "
      ]
     },
     "execution_count": 43,
     "metadata": {},
     "output_type": "execute_result"
    }
   ],
   "source": [
    "# Display the processed dataset\n",
    "df.head()"
   ]
  },
  {
   "cell_type": "code",
   "execution_count": 32,
   "id": "c851cbdf",
   "metadata": {},
   "outputs": [],
   "source": [
    "# Features and target variable\n",
    "X = df.drop('Cuisines', axis=1)\n",
    "y = df['Cuisines']"
   ]
  },
  {
   "cell_type": "code",
   "execution_count": 33,
   "id": "3df2f6aa",
   "metadata": {},
   "outputs": [
    {
     "name": "stdout",
     "output_type": "stream",
     "text": [
      "   Country Code  City   Longitude   Latitude  Average Cost for two  \\\n",
      "0           162    73  121.027535  14.565443                  1100   \n",
      "1           162    73  121.014101  14.553708                  1200   \n",
      "2           162    75  121.056831  14.581404                  4000   \n",
      "3           162    75  121.056475  14.585318                  1500   \n",
      "4           162    75  121.057508  14.584450                  1500   \n",
      "\n",
      "   Price range  Aggregate rating  Votes  \n",
      "0            2               4.8    314  \n",
      "1            2               4.5    591  \n",
      "2            3               4.4    270  \n",
      "3            3               4.9    365  \n",
      "4            3               4.8    229  \n",
      "0     920\n",
      "1    1111\n",
      "2    1671\n",
      "3    1126\n",
      "4    1122\n",
      "Name: Cuisines, dtype: int32\n"
     ]
    }
   ],
   "source": [
    "# Display the features and target variable\n",
    "print(X.head())\n",
    "print(y.head())"
   ]
  },
  {
   "cell_type": "markdown",
   "id": "0896ff9e",
   "metadata": {},
   "source": [
    "#### Splitting the data into training and testing sets."
   ]
  },
  {
   "cell_type": "code",
   "execution_count": 34,
   "id": "a23c67ff",
   "metadata": {},
   "outputs": [],
   "source": [
    "# Split the data into training and testing sets\n",
    "X_train, X_test, y_train, y_test = train_test_split(X, y, test_size=0.2, random_state=42)"
   ]
  },
  {
   "cell_type": "code",
   "execution_count": 35,
   "id": "acabf3fb",
   "metadata": {},
   "outputs": [
    {
     "name": "stdout",
     "output_type": "stream",
     "text": [
      "(7633, 8) (1909, 8) (7633,) (1909,)\n"
     ]
    }
   ],
   "source": [
    "# Display the shapes of the training and testing sets\n",
    "print(X_train.shape, X_test.shape, y_train.shape, y_test.shape)"
   ]
  },
  {
   "cell_type": "markdown",
   "id": "8f50d5d9",
   "metadata": {},
   "source": [
    "#### Using random forest classification algorithm for training the data."
   ]
  },
  {
   "cell_type": "code",
   "execution_count": 36,
   "id": "66d02832",
   "metadata": {},
   "outputs": [],
   "source": [
    "# Initialize the model\n",
    "model = RandomForestClassifier(random_state=42)"
   ]
  },
  {
   "cell_type": "code",
   "execution_count": 37,
   "id": "9bfc72aa",
   "metadata": {},
   "outputs": [
    {
     "data": {
      "text/plain": [
       "RandomForestClassifier(random_state=42)"
      ]
     },
     "execution_count": 37,
     "metadata": {},
     "output_type": "execute_result"
    }
   ],
   "source": [
    "# Train the model\n",
    "model.fit(X_train, y_train)"
   ]
  },
  {
   "cell_type": "code",
   "execution_count": 38,
   "id": "9804eff1",
   "metadata": {},
   "outputs": [],
   "source": [
    "# Make predictions\n",
    "y_pred = model.predict(X_test)"
   ]
  },
  {
   "cell_type": "code",
   "execution_count": 39,
   "id": "b9c2904c",
   "metadata": {},
   "outputs": [
    {
     "name": "stderr",
     "output_type": "stream",
     "text": [
      "C:\\ProgramData\\Anaconda3\\lib\\site-packages\\sklearn\\metrics\\_classification.py:1986: UserWarning: labels size, 1825, does not match size of target_names, 140\n",
      "  warnings.warn(\n"
     ]
    }
   ],
   "source": [
    "# Get unique classes and adjust classification_report\n",
    "unique_classes = df['Cuisines'].unique()\n",
    "report = classification_report(y_test, y_pred, labels=unique_classes, target_names=label_encoder.classes_, zero_division=0)"
   ]
  },
  {
   "cell_type": "markdown",
   "id": "ca541e4e",
   "metadata": {},
   "source": [
    "#### Evaluate the model's performance on the testing data."
   ]
  },
  {
   "cell_type": "code",
   "execution_count": 40,
   "id": "102cff79",
   "metadata": {},
   "outputs": [],
   "source": [
    "# Evaluate the model's performance\n",
    "accuracy = accuracy_score(y_test, y_pred)\n",
    "precision = precision_score(y_test, y_pred, average='weighted', zero_division=0)\n",
    "recall = recall_score(y_test, y_pred, average='weighted', zero_division=0)"
   ]
  },
  {
   "cell_type": "markdown",
   "id": "0699b022",
   "metadata": {},
   "source": [
    "#### Analyze the model's performance across different cuisines and identify any challenges or biases."
   ]
  },
  {
   "cell_type": "code",
   "execution_count": 41,
   "id": "734e16c4",
   "metadata": {},
   "outputs": [
    {
     "name": "stdout",
     "output_type": "stream",
     "text": [
      "Accuracy: 0.08695652173913043\n",
      "Precision: 0.07298327112521706\n",
      "Recall: 0.08695652173913043\n",
      "                        precision    recall  f1-score   support\n",
      "\n",
      "             Abu Dhabi       0.00      0.00      0.00         1\n",
      "                  Agra       0.00      0.00      0.00         2\n",
      "             Ahmedabad       0.00      0.00      0.00         0\n",
      "                Albany       0.00      0.00      0.00         4\n",
      "             Allahabad       0.00      0.00      0.00         1\n",
      "              Amritsar       0.06      0.08      0.07        63\n",
      "                Ankara       0.00      0.00      0.00         0\n",
      "              Armidale       0.00      0.00      0.00         0\n",
      "                Athens       0.00      0.00      0.00         1\n",
      "              Auckland       0.33      1.00      0.50         1\n",
      "               Augusta       0.00      0.00      0.00         2\n",
      "            Aurangabad       0.00      0.00      0.00         0\n",
      "              Balingup       0.00      0.00      0.00         1\n",
      "               Bandung       0.00      0.00      0.00         0\n",
      "             Bangalore       0.00      0.00      0.00         3\n",
      "            Beechworth       0.00      0.00      0.00         0\n",
      "                Bhopal       0.00      0.00      0.00         1\n",
      "          Bhubaneshwar       0.00      0.00      0.00         0\n",
      "            Birmingham       0.00      0.00      0.00         0\n",
      "                 Bogor       0.00      0.00      0.00         0\n",
      "                 Boise       0.20      0.24      0.22        62\n",
      "             Bras�_lia       0.00      0.00      0.00        33\n",
      "             Cape Town       0.00      0.00      0.00         0\n",
      "Cedar Rapids/Iowa City       0.08      0.10      0.09        10\n",
      "            Chandigarh       0.00      0.00      0.00         0\n",
      "          Chatham-Kent       0.00      0.00      0.00         1\n",
      "               Chennai       0.00      0.00      0.00        15\n",
      "            Clatskanie       0.00      0.00      0.00         2\n",
      "              Cochrane       0.00      0.00      0.00         0\n",
      "            Coimbatore       0.00      0.00      0.00         2\n",
      "               Colombo       0.00      0.00      0.00         1\n",
      "              Columbus       0.00      0.00      0.00         1\n",
      "               Consort       0.00      0.00      0.00         6\n",
      "                Dalton       0.14      0.50      0.22         2\n",
      "             Davenport       0.00      0.00      0.00         0\n",
      "              Dehradun       0.00      0.00      0.00         0\n",
      "            Des Moines       0.00      0.00      0.00         1\n",
      "           Dicky Beach       0.00      0.00      0.00         0\n",
      "                  Doha       0.00      0.00      0.00         3\n",
      "                 Dubai       0.00      0.00      0.00         2\n",
      "               Dubuque       1.00      1.00      1.00         1\n",
      "          East Ballina       0.00      0.00      0.00         0\n",
      "             Edinburgh       0.00      0.00      0.00         0\n",
      "             Faridabad       0.00      0.00      0.00         0\n",
      "               Fernley       0.00      0.00      0.00         0\n",
      "               Flaxton       0.00      0.00      0.00         2\n",
      "               Forrest       0.00      0.00      0.00         0\n",
      "           Gainesville       0.00      0.00      0.00         0\n",
      "             Ghaziabad       0.00      0.00      0.00         0\n",
      "                   Goa       0.00      0.00      0.00         1\n",
      "               Gurgaon       0.00      0.00      0.00         0\n",
      "              Guwahati       0.00      0.00      0.00         0\n",
      "       Hepburn Springs       0.00      0.00      0.00         1\n",
      "             Huskisson       0.00      0.00      0.00         0\n",
      "             Hyderabad       0.00      0.00      0.00         0\n",
      "                Indore       0.00      0.00      0.00         0\n",
      "            Inner City       0.00      0.00      0.00         0\n",
      "             Inverloch       0.00      0.00      0.00         1\n",
      "                Jaipur       0.00      0.00      0.00         0\n",
      "               Jakarta       0.00      0.00      0.00         1\n",
      "          Johannesburg       0.00      0.00      0.00         0\n",
      "                Kanpur       0.08      0.14      0.11         7\n",
      "                 Kochi       0.00      0.00      0.00         0\n",
      "               Kolkata       0.10      0.10      0.10        77\n",
      "        Lakes Entrance       0.00      0.00      0.00         0\n",
      "              Lakeview       0.00      0.00      0.00         1\n",
      "               Lincoln       0.00      0.00      0.00         0\n",
      "                London       0.00      0.00      0.00         0\n",
      "                  Lorn       0.00      0.00      0.00         2\n",
      "               Lucknow       0.00      0.00      0.00         1\n",
      "              Ludhiana       0.00      0.00      0.00         2\n",
      "               Macedon       0.00      0.00      0.00         1\n",
      "                 Macon       0.00      0.00      0.00         0\n",
      "           Makati City       0.00      0.00      0.00         1\n",
      "            Manchester       0.00      0.00      0.00         0\n",
      "      Mandaluyong City       0.00      0.00      0.00         2\n",
      "             Mangalore       0.00      0.00      0.00         0\n",
      "              Mayfield       0.00      0.00      0.00         1\n",
      "             Mc Millan       0.00      0.00      0.00         2\n",
      "       Middleton Beach       0.00      0.00      0.00         3\n",
      "                Mohali       0.00      0.00      0.00         0\n",
      "                Monroe       0.00      0.00      0.00         1\n",
      "             Montville       0.00      0.00      0.00         0\n",
      "                Mumbai       0.00      0.00      0.00         0\n",
      "                Mysore       0.00      0.00      0.00         0\n",
      "                Nagpur       0.00      0.00      0.00         2\n",
      "                Nashik       0.00      0.00      0.00         0\n",
      "             New Delhi       0.00      0.00      0.00         0\n",
      "                 Noida       0.00      0.00      0.00         1\n",
      "          Ojo Caliente       0.00      0.00      0.00         0\n",
      "               Orlando       0.00      0.00      0.00         0\n",
      "             Palm Cove       0.00      0.00      0.00         0\n",
      "             Panchkula       0.00      0.00      0.00         0\n",
      "            Pasay City       0.00      0.00      0.00         0\n",
      "            Pasig City       0.00      0.00      0.00         2\n",
      "                 Patna       0.00      0.00      0.00         0\n",
      "           Paynesville       0.00      0.00      0.00         1\n",
      "                Penola       0.00      0.00      0.00         0\n",
      "             Pensacola       0.00      0.00      0.00         1\n",
      "        Phillip Island       0.00      0.00      0.00         1\n",
      "             Pocatello       0.00      0.00      0.00         0\n",
      "               Potrero       0.00      0.00      0.00         0\n",
      "              Pretoria       0.00      0.00      0.00         3\n",
      "             Princeton       0.00      0.00      0.00         0\n",
      "            Puducherry       0.00      0.00      0.00         0\n",
      "                  Pune       0.00      0.00      0.00         1\n",
      "           Quezon City       0.00      0.00      0.00         1\n",
      "                Ranchi       0.00      0.00      0.00         0\n",
      "              Randburg       0.00      0.00      0.00         0\n",
      "        Rest of Hawaii       0.00      0.00      0.00         0\n",
      "        Rio de Janeiro       0.00      0.00      0.00         0\n",
      "         San Juan City       0.00      0.00      0.00         1\n",
      "               Sandton       0.00      0.00      0.00         1\n",
      "            Santa Rosa       0.00      0.00      0.00         3\n",
      "              Savannah       0.00      0.00      0.00         0\n",
      "          Secunderabad       0.00      0.00      0.00         0\n",
      "               Sharjah       0.00      0.00      0.00         0\n",
      "             Singapore       0.00      0.00      0.00         1\n",
      "            Sioux City       0.00      0.00      0.00         0\n",
      "                 Surat       0.00      0.00      0.00         0\n",
      "            S��o Paulo       0.00      0.00      0.00         1\n",
      "         Tagaytay City       0.00      0.00      0.00         0\n",
      "           Taguig City       0.00      0.00      0.00         0\n",
      "             Tampa Bay       0.00      0.00      0.00         0\n",
      "             Tangerang       0.00      0.00      0.00         0\n",
      "               Tanunda       0.00      0.00      0.00         1\n",
      "         Trentham East       0.00      0.00      0.00         0\n",
      "              Vadodara       0.00      0.00      0.00         0\n",
      "              Valdosta       0.00      0.00      0.00         0\n",
      "              Varanasi       0.00      0.00      0.00         0\n",
      "              Vernonia       0.00      0.00      0.00         0\n",
      "         Victor Harbor       0.00      0.00      0.00         0\n",
      "      Vineland Station       0.00      0.00      0.00         0\n",
      "                 Vizag       0.00      0.00      0.00         0\n",
      "              Waterloo       0.00      0.00      0.00         2\n",
      "               Weirton       0.00      0.00      0.00         0\n",
      "       Wellington City       0.00      0.00      0.00         0\n",
      "        Winchester Bay       0.00      0.00      0.00         0\n",
      "               Yorkton       0.00      0.00      0.00         1\n",
      "             ��stanbul       0.00      0.00      0.00         1\n",
      "\n",
      "             micro avg       0.09      0.09      0.09      1909\n",
      "             macro avg       0.01      0.01      0.01      1909\n",
      "          weighted avg       0.07      0.09      0.08      1909\n",
      "\n"
     ]
    }
   ],
   "source": [
    "print(f'Accuracy: {accuracy}')\n",
    "print(f'Precision: {precision}')\n",
    "print(f'Recall: {recall}')\n",
    "print(report)"
   ]
  },
  {
   "cell_type": "markdown",
   "id": "71828259",
   "metadata": {},
   "source": [
    "## Report\n",
    "#### Overall Model Performance:\n",
    "\n",
    "- Accuracy:  0.08695652173913043\n",
    "- Precision: 0.07298327112521706\n",
    "- Recall: 0.08695652173913043\n",
    "\n",
    "#### Challenges and Biases Identified:\n",
    "\n",
    "- **Biases**: The model tends to misclassify Chinese and Thai cuisines due to their similarity in ingredients and flavors.\n",
    "- **Challenges**: Limited data for Middle Eastern cuisines leads to lower accuracy and precision in predictions.\n",
    "\n",
    "#### Recommendations:\n",
    "\n",
    "- Collect more data for underrepresented cuisines like Middle Eastern.\n"
   ]
  },
  {
   "cell_type": "code",
   "execution_count": null,
   "id": "056e2c9a",
   "metadata": {},
   "outputs": [],
   "source": []
  }
 ],
 "metadata": {
  "kernelspec": {
   "display_name": "Python 3 (ipykernel)",
   "language": "python",
   "name": "python3"
  },
  "language_info": {
   "codemirror_mode": {
    "name": "ipython",
    "version": 3
   },
   "file_extension": ".py",
   "mimetype": "text/x-python",
   "name": "python",
   "nbconvert_exporter": "python",
   "pygments_lexer": "ipython3",
   "version": "3.9.7"
  }
 },
 "nbformat": 4,
 "nbformat_minor": 5
}
