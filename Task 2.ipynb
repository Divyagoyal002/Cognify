{
 "cells": [
  {
   "cell_type": "markdown",
   "id": "26059a7d",
   "metadata": {},
   "source": [
    "### Objective: \n",
    "**Create a restaurant recommendation\n",
    "system based on user preferences.**"
   ]
  },
  {
   "cell_type": "markdown",
   "id": "2459b9fe",
   "metadata": {},
   "source": [
    "## Restaurant Recommendation System"
   ]
  },
  {
   "cell_type": "markdown",
   "id": "7a00e0a2",
   "metadata": {},
   "source": [
    "**Preprocessing the dataset**"
   ]
  },
  {
   "cell_type": "code",
   "execution_count": 20,
   "id": "808556c3",
   "metadata": {},
   "outputs": [],
   "source": [
    "import pandas as pd"
   ]
  },
  {
   "cell_type": "code",
   "execution_count": 19,
   "id": "b844ae08",
   "metadata": {},
   "outputs": [],
   "source": [
    "# Load the dataset\n",
    "data = pd.read_csv('Dataset.csv')"
   ]
  },
  {
   "cell_type": "code",
   "execution_count": 12,
   "id": "d0a124a8",
   "metadata": {},
   "outputs": [
    {
     "name": "stdout",
     "output_type": "stream",
     "text": [
      "   Restaurant ID         Restaurant Name  Country Code              City  \\\n",
      "0        6317637        Le Petit Souffle           162       Makati City   \n",
      "1        6304287        Izakaya Kikufuji           162       Makati City   \n",
      "2        6300002  Heat - Edsa Shangri-La           162  Mandaluyong City   \n",
      "3        6318506                    Ooma           162  Mandaluyong City   \n",
      "4        6314302             Sambo Kojin           162  Mandaluyong City   \n",
      "\n",
      "                                             Address  \\\n",
      "0  Third Floor, Century City Mall, Kalayaan Avenu...   \n",
      "1  Little Tokyo, 2277 Chino Roces Avenue, Legaspi...   \n",
      "2  Edsa Shangri-La, 1 Garden Way, Ortigas, Mandal...   \n",
      "3  Third Floor, Mega Fashion Hall, SM Megamall, O...   \n",
      "4  Third Floor, Mega Atrium, SM Megamall, Ortigas...   \n",
      "\n",
      "                                     Locality  \\\n",
      "0   Century City Mall, Poblacion, Makati City   \n",
      "1  Little Tokyo, Legaspi Village, Makati City   \n",
      "2  Edsa Shangri-La, Ortigas, Mandaluyong City   \n",
      "3      SM Megamall, Ortigas, Mandaluyong City   \n",
      "4      SM Megamall, Ortigas, Mandaluyong City   \n",
      "\n",
      "                                    Locality Verbose   Longitude   Latitude  \\\n",
      "0  Century City Mall, Poblacion, Makati City, Mak...  121.027535  14.565443   \n",
      "1  Little Tokyo, Legaspi Village, Makati City, Ma...  121.014101  14.553708   \n",
      "2  Edsa Shangri-La, Ortigas, Mandaluyong City, Ma...  121.056831  14.581404   \n",
      "3  SM Megamall, Ortigas, Mandaluyong City, Mandal...  121.056475  14.585318   \n",
      "4  SM Megamall, Ortigas, Mandaluyong City, Mandal...  121.057508  14.584450   \n",
      "\n",
      "                           Cuisines  ...          Currency Has Table booking  \\\n",
      "0        French, Japanese, Desserts  ...  Botswana Pula(P)               Yes   \n",
      "1                          Japanese  ...  Botswana Pula(P)               Yes   \n",
      "2  Seafood, Asian, Filipino, Indian  ...  Botswana Pula(P)               Yes   \n",
      "3                   Japanese, Sushi  ...  Botswana Pula(P)                No   \n",
      "4                  Japanese, Korean  ...  Botswana Pula(P)               Yes   \n",
      "\n",
      "  Has Online delivery Is delivering now Switch to order menu Price range  \\\n",
      "0                  No                No                   No           3   \n",
      "1                  No                No                   No           3   \n",
      "2                  No                No                   No           4   \n",
      "3                  No                No                   No           4   \n",
      "4                  No                No                   No           4   \n",
      "\n",
      "   Aggregate rating  Rating color Rating text Votes  \n",
      "0               4.8    Dark Green   Excellent   314  \n",
      "1               4.5    Dark Green   Excellent   591  \n",
      "2               4.4         Green   Very Good   270  \n",
      "3               4.9    Dark Green   Excellent   365  \n",
      "4               4.8    Dark Green   Excellent   229  \n",
      "\n",
      "[5 rows x 21 columns]\n"
     ]
    }
   ],
   "source": [
    "# Display the first few rows of the dataset\n",
    "print(data.head())\n"
   ]
  },
  {
   "cell_type": "code",
   "execution_count": 15,
   "id": "6b40e39c",
   "metadata": {},
   "outputs": [],
   "source": [
    "# Handling missing values\n",
    "data = data.dropna()"
   ]
  },
  {
   "cell_type": "code",
   "execution_count": 17,
   "id": "20983ddc",
   "metadata": {},
   "outputs": [],
   "source": [
    "# Encoding categorical variables (cuisine and price range)\n",
    "data = pd.get_dummies(data, columns=['Cuisines', 'Price range'])"
   ]
  },
  {
   "cell_type": "code",
   "execution_count": 18,
   "id": "c249f3f9",
   "metadata": {},
   "outputs": [
    {
     "name": "stdout",
     "output_type": "stream",
     "text": [
      "   Restaurant ID         Restaurant Name  Country Code              City  \\\n",
      "0        6317637        Le Petit Souffle           162       Makati City   \n",
      "1        6304287        Izakaya Kikufuji           162       Makati City   \n",
      "2        6300002  Heat - Edsa Shangri-La           162  Mandaluyong City   \n",
      "3        6318506                    Ooma           162  Mandaluyong City   \n",
      "4        6314302             Sambo Kojin           162  Mandaluyong City   \n",
      "\n",
      "                                             Address  \\\n",
      "0  Third Floor, Century City Mall, Kalayaan Avenu...   \n",
      "1  Little Tokyo, 2277 Chino Roces Avenue, Legaspi...   \n",
      "2  Edsa Shangri-La, 1 Garden Way, Ortigas, Mandal...   \n",
      "3  Third Floor, Mega Fashion Hall, SM Megamall, O...   \n",
      "4  Third Floor, Mega Atrium, SM Megamall, Ortigas...   \n",
      "\n",
      "                                     Locality  \\\n",
      "0   Century City Mall, Poblacion, Makati City   \n",
      "1  Little Tokyo, Legaspi Village, Makati City   \n",
      "2  Edsa Shangri-La, Ortigas, Mandaluyong City   \n",
      "3      SM Megamall, Ortigas, Mandaluyong City   \n",
      "4      SM Megamall, Ortigas, Mandaluyong City   \n",
      "\n",
      "                                    Locality Verbose   Longitude   Latitude  \\\n",
      "0  Century City Mall, Poblacion, Makati City, Mak...  121.027535  14.565443   \n",
      "1  Little Tokyo, Legaspi Village, Makati City, Ma...  121.014101  14.553708   \n",
      "2  Edsa Shangri-La, Ortigas, Mandaluyong City, Ma...  121.056831  14.581404   \n",
      "3  SM Megamall, Ortigas, Mandaluyong City, Mandal...  121.056475  14.585318   \n",
      "4  SM Megamall, Ortigas, Mandaluyong City, Mandal...  121.057508  14.584450   \n",
      "\n",
      "   Average Cost for two  ... Cuisines_Vietnamese, Fish and Chips  \\\n",
      "0                  1100  ...                                   0   \n",
      "1                  1200  ...                                   0   \n",
      "2                  4000  ...                                   0   \n",
      "3                  1500  ...                                   0   \n",
      "4                  1500  ...                                   0   \n",
      "\n",
      "  Cuisines_Western, Asian, Cafe Cuisines_Western, Fusion, Fast Food  \\\n",
      "0                             0                                   0   \n",
      "1                             0                                   0   \n",
      "2                             0                                   0   \n",
      "3                             0                                   0   \n",
      "4                             0                                   0   \n",
      "\n",
      "  Cuisines_World Cuisine Cuisines_World Cuisine, Mexican, Italian  \\\n",
      "0                      0                                        0   \n",
      "1                      0                                        0   \n",
      "2                      0                                        0   \n",
      "3                      0                                        0   \n",
      "4                      0                                        0   \n",
      "\n",
      "   Cuisines_World Cuisine, Patisserie, Cafe Price range_1 Price range_2  \\\n",
      "0                                         0             0             0   \n",
      "1                                         0             0             0   \n",
      "2                                         0             0             0   \n",
      "3                                         0             0             0   \n",
      "4                                         0             0             0   \n",
      "\n",
      "   Price range_3  Price range_4  \n",
      "0              1              0  \n",
      "1              1              0  \n",
      "2              0              1  \n",
      "3              0              1  \n",
      "4              0              1  \n",
      "\n",
      "[5 rows x 1848 columns]\n"
     ]
    }
   ],
   "source": [
    "# Display the processed dataset\n",
    "print(data.head())"
   ]
  },
  {
   "cell_type": "markdown",
   "id": "d213199d",
   "metadata": {},
   "source": [
    "**Using the user's cuisine preference and price range as the criteria for recommendations**"
   ]
  },
  {
   "cell_type": "markdown",
   "id": "4b3933ee",
   "metadata": {},
   "source": [
    "#### implement Content-Based Filtering"
   ]
  },
  {
   "cell_type": "code",
   "execution_count": 22,
   "id": "c0573d99",
   "metadata": {},
   "outputs": [],
   "source": [
    "from sklearn.metrics.pairwise import cosine_similarity\n",
    "from sklearn.feature_extraction.text import CountVectorizer"
   ]
  },
  {
   "cell_type": "code",
   "execution_count": 26,
   "id": "c9ce3654",
   "metadata": {},
   "outputs": [],
   "source": [
    "# Converting text data into numerical vectors\n",
    "count_vectorizer = CountVectorizer()\n",
    "feature_matrix = count_vectorizer.fit_transform(data['features'])"
   ]
  },
  {
   "cell_type": "code",
   "execution_count": 27,
   "id": "c0110b1a",
   "metadata": {},
   "outputs": [],
   "source": [
    "# Computing cosine similarity between restaurants\n",
    "cosine_sim = cosine_similarity(feature_matrix, feature_matrix)"
   ]
  },
  {
   "cell_type": "markdown",
   "id": "b9efce2a",
   "metadata": {},
   "source": [
    "#### Recommendation function"
   ]
  },
  {
   "cell_type": "code",
   "execution_count": 28,
   "id": "6a2249fd",
   "metadata": {},
   "outputs": [],
   "source": [
    "def get_recommendations(user_preferences, cosine_sim=cosine_sim):\n",
    "    user_features = ' '.join(user_preferences)\n",
    "    user_vec = count_vectorizer.transform([user_features])\n",
    "    sim_scores = cosine_similarity(user_vec, feature_matrix).flatten()\n",
    "    sim_scores = sorted(list(enumerate(sim_scores)), key=lambda x: x[1], reverse=True)\n",
    "    restaurant_indices = [i[0] for i in sim_scores[1:6]]\n",
    "    \n",
    "    return data.iloc[restaurant_indices]"
   ]
  },
  {
   "cell_type": "markdown",
   "id": "032428e2",
   "metadata": {},
   "source": [
    "#### Using the recommendation function"
   ]
  },
  {
   "cell_type": "code",
   "execution_count": 29,
   "id": "ab6918bb",
   "metadata": {},
   "outputs": [
    {
     "name": "stdout",
     "output_type": "stream",
     "text": [
      "     Restaurant ID                    Restaurant Name  Country Code  \\\n",
      "217       17334254  Tony's Italian Restaurant & Pizza           216   \n",
      "284       17342594         Mario's Italian Restaurant           216   \n",
      "377       17580412           Carrabba's Italian Grill           216   \n",
      "398       17582522         Buddy's Italian Restaurant           216   \n",
      "158       17305123        Lucianos Italian Restaurant           216   \n",
      "\n",
      "          City                                Address   Locality  \\\n",
      "217     Dalton        933 Market St, Dalton, GA 30720     Dalton   \n",
      "284    Dubuque        1298 Main St, Dubuque, IA 52001    Dubuque   \n",
      "377  Pensacola  311 N 9th Avenue, Pensacola, FL 32502  Pensacola   \n",
      "398  Pocatello    626 E Lewis St, Pocatello, ID 83201  Pocatello   \n",
      "158      Boise       11 N Orchard St, Boise, ID 83706      Boise   \n",
      "\n",
      "         Locality Verbose   Longitude   Latitude  \\\n",
      "217        Dalton, Dalton  -84.999678  34.758645   \n",
      "284      Dubuque, Dubuque  -90.669100  42.504800   \n",
      "377  Pensacola, Pensacola  -87.205855  30.417318   \n",
      "398  Pocatello, Pocatello -112.442300  42.866100   \n",
      "158          Boise, Boise -116.245165  43.605138   \n",
      "\n",
      "                         Cuisines  ...  Has Table booking Has Online delivery  \\\n",
      "217                       Italian  ...                 No                  No   \n",
      "284             American, Italian  ...                 No                  No   \n",
      "377       Italian, Pizza, Seafood  ...                 No                  No   \n",
      "398      Italian, Pizza, Sandwich  ...                 No                  No   \n",
      "158  Italian, Seafood, Vegetarian  ...                 No                  No   \n",
      "\n",
      "    Is delivering now Switch to order menu Price range Aggregate rating  \\\n",
      "217                No                   No           2              3.7   \n",
      "284                No                   No           2              3.6   \n",
      "377                No                   No           3              3.7   \n",
      "398                No                   No           3              3.7   \n",
      "158                No                   No           2              4.4   \n",
      "\n",
      "     Rating color  Rating text Votes  \\\n",
      "217        Yellow         Good   116   \n",
      "284        Yellow         Good   140   \n",
      "377        Yellow         Good   292   \n",
      "398        Yellow         Good   222   \n",
      "158         Green    Very Good   360   \n",
      "\n",
      "                                              features  \n",
      "217  17334254 Tony's Italian Restaurant & Pizza 216...  \n",
      "284  17342594 Mario's Italian Restaurant 216 Dubuqu...  \n",
      "377  17580412 Carrabba's Italian Grill 216 Pensacol...  \n",
      "398  17582522 Buddy's Italian Restaurant 216 Pocate...  \n",
      "158  17305123 Lucianos Italian Restaurant 216 Boise...  \n",
      "\n",
      "[5 rows x 22 columns]\n"
     ]
    }
   ],
   "source": [
    "user_preferences = ['Italian', 'low']\n",
    "recommended_restaurants = get_recommendations(user_preferences)\n",
    "print(recommended_restaurants)\n"
   ]
  },
  {
   "cell_type": "markdown",
   "id": "3bd38f9c",
   "metadata": {},
   "source": [
    "#### Example 2"
   ]
  },
  {
   "cell_type": "code",
   "execution_count": 31,
   "id": "8e1e5325",
   "metadata": {},
   "outputs": [
    {
     "name": "stdout",
     "output_type": "stream",
     "text": [
      "      Restaurant ID            Restaurant Name            Cuisines  \\\n",
      "6977           4649                Chinese Hut             Chinese   \n",
      "4274       18481322      Shankar Chinese Foods  Chinese, Fast Food   \n",
      "6244           6453                Chinese Hut             Chinese   \n",
      "1090       18381668  Green Chilly Chinese Food             Chinese   \n",
      "2808            852             Chinese Garden             Chinese   \n",
      "\n",
      "      Price range  \n",
      "6977            2  \n",
      "4274            1  \n",
      "6244            1  \n",
      "1090            1  \n",
      "2808            2  \n"
     ]
    }
   ],
   "source": [
    "user_preferences = ['Chinese', 'medium']\n",
    "\n",
    "recommended_restaurants = get_recommendations(user_preferences)\n",
    "print(recommended_restaurants[['Restaurant ID', 'Restaurant Name', 'Cuisines', 'Price range']])\n"
   ]
  },
  {
   "cell_type": "code",
   "execution_count": null,
   "id": "5a73b67b",
   "metadata": {},
   "outputs": [],
   "source": []
  }
 ],
 "metadata": {
  "kernelspec": {
   "display_name": "Python 3 (ipykernel)",
   "language": "python",
   "name": "python3"
  },
  "language_info": {
   "codemirror_mode": {
    "name": "ipython",
    "version": 3
   },
   "file_extension": ".py",
   "mimetype": "text/x-python",
   "name": "python",
   "nbconvert_exporter": "python",
   "pygments_lexer": "ipython3",
   "version": "3.9.7"
  }
 },
 "nbformat": 4,
 "nbformat_minor": 5
}
